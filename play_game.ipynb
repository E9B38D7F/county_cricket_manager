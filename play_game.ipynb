{
 "cells": [
  {
   "cell_type": "markdown",
   "id": "ec533e4e-2f1c-49f0-ad5e-36a742c089fe",
   "metadata": {},
   "source": [
    "# Play the game"
   ]
  },
  {
   "cell_type": "code",
   "execution_count": null,
   "id": "932adc68-a2be-4fde-a322-b0e9d3d82dbd",
   "metadata": {},
   "outputs": [],
   "source": [
    "from league import League\n",
    "league = League()\n",
    "league.run_league()"
   ]
  },
  {
   "cell_type": "markdown",
   "id": "ef53e59d-9e8a-415b-b8a3-db0a41f59a57",
   "metadata": {},
   "source": [
    "# Post-game information"
   ]
  },
  {
   "cell_type": "code",
   "execution_count": null,
   "id": "629ba06d-9f9b-43d1-b8d3-1fc2e760ef0e",
   "metadata": {},
   "outputs": [],
   "source": [
    "# See the final table\n",
    "league.display_table()"
   ]
  },
  {
   "cell_type": "code",
   "execution_count": null,
   "id": "26a70943-27a1-4d23-893a-140f6d9db0c0",
   "metadata": {},
   "outputs": [],
   "source": [
    "# Pull up a particular team's history\n",
    "league.teams[\"Somerset\"].display_history()"
   ]
  },
  {
   "cell_type": "code",
   "execution_count": null,
   "id": "e1b07d2b-4306-4649-be2c-5f68b0157b36",
   "metadata": {},
   "outputs": [],
   "source": [
    "# See the skill of each player in a given team\n",
    "[(player.name, player.skill) for player in league.teams[\"Somerset\"].players.values()]"
   ]
  },
  {
   "cell_type": "code",
   "execution_count": null,
   "id": "4ed21038-f279-4c0b-936b-8b546a8b95e0",
   "metadata": {},
   "outputs": [],
   "source": [
    "# See the league's top batters\n",
    "league.get_best_batters()"
   ]
  }
 ],
 "metadata": {
  "kernelspec": {
   "display_name": "Python 3 (ipykernel)",
   "language": "python",
   "name": "python3"
  },
  "language_info": {
   "codemirror_mode": {
    "name": "ipython",
    "version": 3
   },
   "file_extension": ".py",
   "mimetype": "text/x-python",
   "name": "python",
   "nbconvert_exporter": "python",
   "pygments_lexer": "ipython3",
   "version": "3.12.4"
  }
 },
 "nbformat": 4,
 "nbformat_minor": 5
}
